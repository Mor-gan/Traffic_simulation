{
 "cells": [
  {
   "cell_type": "code",
   "execution_count": 95,
   "id": "940f1023-060e-41e5-b382-93e2c007124e",
   "metadata": {},
   "outputs": [
    {
     "data": {
      "image/png": "[encoded data removed]",
      "text/plain": [
       "<Figure size 576x144 with 1 Axes>"
      ]
     },
     "metadata": {
      "needs_background": "light"
     },
     "output_type": "display_data"
    }
   ],
   "source": [
    "import numpy as np\n",
    "import matplotlib.pyplot as plt\n",
    "\n",
    "\n",
    "# A funtion to place cars/car on the road\n",
    "def initialize_road(road_length, num_cars, v_max):\n",
    "    road = [-1] * road_length # Initialize a value for a empty road\n",
    "    car_positions = np.random.choice(range(road_length), num_cars, replace=False) #randomly choose car in a position\n",
    "    #Place the car in a position on the road randomly\n",
    "    for pos in car_positions:\n",
    "        road[pos] = np.random.randint(0, v_max + 1) \n",
    "    return road, car_positions\n",
    "\n",
    "#Since the car is now on the road, a function to move the car\n",
    "def move_car(car, position, road_length):\n",
    "    return (position + car) % road_length\n",
    "\n",
    "#To run the car in simulation, a function that visualizes the cars on the raod at every number of iteration.\n",
    "def traffic_simulation(road_length, num_cars, num_iterations, v_max=5, p=0.3):\n",
    "    fig, ax = plt.subplots(figsize=(8, 2))\n",
    "\n",
    "    road, car_positions = initialize_road(road_length, num_cars, v_max)\n",
    "    \n",
    "#Update the position(grid) at each iteration\n",
    "    def update(frame):\n",
    "        nonlocal road, car_positions #the nonlocal keyword is to refer to the raod and car defined in the previous function instead of creating a new variable\n",
    "        for i in range(len(car_positions)):\n",
    "            current_pos = car_positions[i]\n",
    "            car = road[current_pos]\n",
    "            next_pos = move_car(car, current_pos, road_length)\n",
    "            distance_to_next_car = 0\n",
    "\n",
    "   #Using a scatter plot to visualize car randomly placed on the raod\n",
    "    sc = ax.scatter(car_positions, [1] * num_cars, c='green', marker='s', s=200)\n",
    "    def init():\n",
    "        # Initialize a scatter plot with the initial car positions\n",
    "        sc.set_offsets(np.column_stack((car_positions, [1] * num_cars)))\n",
    "        return (sc,)\n",
    "\n",
    "    plt.xlim(-1, road_length)\n",
    "    plt.ylim(0, 2)\n",
    "    plt.xlabel(\"Road Position\")\n",
    "    plt.ylabel(\"Lane\")\n",
    "    plt.title(\"Traffic Simulation\")\n",
    "    plt.show()\n",
    "\n",
    "    \n",
    "if __name__ == \"__main__\":\n",
    "    road_length = 10\n",
    "    num_cars = 5\n",
    "    num_iterations = 2\n",
    "    \n",
    "    #call the simulation method given the actaul value of parameter \n",
    "    traffic_simulation(road_length, num_cars, num_iterations)\n"
   ]
  },
  {
   "cell_type": "code",
   "execution_count": null,
   "id": "258f9901-70b9-4e11-b754-e4c38cb46e0c",
   "metadata": {},
   "outputs": [],
   "source": []
  }
 ],
 "metadata": {
  "kernelspec": {
   "display_name": "Python 3 (ipykernel)",
   "language": "python",
   "name": "python3"
  },
  "language_info": {
   "codemirror_mode": {
    "name": "ipython",
    "version": 3
   },
   "file_extension": ".py",
   "mimetype": "text/x-python",
   "name": "python",
   "nbconvert_exporter": "python",
   "pygments_lexer": "ipython3",
   "version": "3.9.12"
  }
 },
 "nbformat": 4,
 "nbformat_minor": 5
}
